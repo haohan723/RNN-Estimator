{
 "cells": [
  {
   "cell_type": "code",
   "execution_count": 1,
   "metadata": {},
   "outputs": [
    {
     "name": "stderr",
     "output_type": "stream",
     "text": [
      "/home/hf/anaconda2/envs/py36/lib/python3.6/site-packages/h5py/__init__.py:36: FutureWarning: Conversion of the second argument of issubdtype from `float` to `np.floating` is deprecated. In future, it will be treated as `np.float64 == np.dtype(float).type`.\n",
      "  from ._conv import register_converters as _register_converters\n"
     ]
    }
   ],
   "source": [
    "import numpy as np \n",
    "import tensorflow as tf\n",
    "import pandas as pd\n",
    "import matplotlib.pyplot as plt\n",
    "import seaborn as sns\n",
    "\n",
    "sns.set(color_codes = True)\n",
    "%matplotlib inline\n",
    "%config InlineBackend.figure_format = 'retina'"
   ]
  },
  {
   "cell_type": "code",
   "execution_count": 2,
   "metadata": {},
   "outputs": [
    {
     "data": {
      "text/html": [
       "<div>\n",
       "<style scoped>\n",
       "    .dataframe tbody tr th:only-of-type {\n",
       "        vertical-align: middle;\n",
       "    }\n",
       "\n",
       "    .dataframe tbody tr th {\n",
       "        vertical-align: top;\n",
       "    }\n",
       "\n",
       "    .dataframe thead th {\n",
       "        text-align: right;\n",
       "    }\n",
       "</style>\n",
       "<table border=\"1\" class=\"dataframe\">\n",
       "  <thead>\n",
       "    <tr style=\"text-align: right;\">\n",
       "      <th></th>\n",
       "      <th>MMSI</th>\n",
       "      <th>LONGITUDE</th>\n",
       "      <th>LATITUDE</th>\n",
       "      <th>speedmin</th>\n",
       "      <th>accmin2</th>\n",
       "      <th>avgspeed</th>\n",
       "      <th>meanacc</th>\n",
       "      <th>stdspeed</th>\n",
       "      <th>date</th>\n",
       "      <th>COARSE_FIS</th>\n",
       "      <th>rowNum</th>\n",
       "    </tr>\n",
       "  </thead>\n",
       "  <tbody>\n",
       "    <tr>\n",
       "      <th>2194298</th>\n",
       "      <td>87</td>\n",
       "      <td>116.328900</td>\n",
       "      <td>39.978650</td>\n",
       "      <td>0.073591</td>\n",
       "      <td>0.001958</td>\n",
       "      <td>0.114921</td>\n",
       "      <td>0.217491</td>\n",
       "      <td>0.159637</td>\n",
       "      <td>2007-08-20 00:49:53</td>\n",
       "      <td>2</td>\n",
       "      <td>2194299</td>\n",
       "    </tr>\n",
       "    <tr>\n",
       "      <th>2194299</th>\n",
       "      <td>87</td>\n",
       "      <td>116.329033</td>\n",
       "      <td>39.977917</td>\n",
       "      <td>0.086664</td>\n",
       "      <td>0.013761</td>\n",
       "      <td>0.114921</td>\n",
       "      <td>0.217491</td>\n",
       "      <td>0.159637</td>\n",
       "      <td>2007-08-20 00:50:50</td>\n",
       "      <td>2</td>\n",
       "      <td>2194300</td>\n",
       "    </tr>\n",
       "    <tr>\n",
       "      <th>2194300</th>\n",
       "      <td>87</td>\n",
       "      <td>116.329650</td>\n",
       "      <td>39.977517</td>\n",
       "      <td>0.061650</td>\n",
       "      <td>-0.022401</td>\n",
       "      <td>0.114921</td>\n",
       "      <td>0.217491</td>\n",
       "      <td>0.159637</td>\n",
       "      <td>2007-08-20 00:51:57</td>\n",
       "      <td>2</td>\n",
       "      <td>2194301</td>\n",
       "    </tr>\n",
       "    <tr>\n",
       "      <th>2194301</th>\n",
       "      <td>87</td>\n",
       "      <td>116.330250</td>\n",
       "      <td>39.977283</td>\n",
       "      <td>0.076442</td>\n",
       "      <td>0.019724</td>\n",
       "      <td>0.076442</td>\n",
       "      <td>0.019724</td>\n",
       "      <td>0.000000</td>\n",
       "      <td>2007-08-20 00:52:42</td>\n",
       "      <td>2</td>\n",
       "      <td>2194302</td>\n",
       "    </tr>\n",
       "    <tr>\n",
       "      <th>2194302</th>\n",
       "      <td>87</td>\n",
       "      <td>116.330683</td>\n",
       "      <td>39.976417</td>\n",
       "      <td>0.078380</td>\n",
       "      <td>0.001472</td>\n",
       "      <td>0.078380</td>\n",
       "      <td>0.001472</td>\n",
       "      <td>0.000000</td>\n",
       "      <td>2007-08-20 00:54:01</td>\n",
       "      <td>2</td>\n",
       "      <td>2194303</td>\n",
       "    </tr>\n",
       "  </tbody>\n",
       "</table>\n",
       "</div>"
      ],
      "text/plain": [
       "         MMSI   LONGITUDE   LATITUDE  speedmin   accmin2  avgspeed   meanacc  \\\n",
       "2194298    87  116.328900  39.978650  0.073591  0.001958  0.114921  0.217491   \n",
       "2194299    87  116.329033  39.977917  0.086664  0.013761  0.114921  0.217491   \n",
       "2194300    87  116.329650  39.977517  0.061650 -0.022401  0.114921  0.217491   \n",
       "2194301    87  116.330250  39.977283  0.076442  0.019724  0.076442  0.019724   \n",
       "2194302    87  116.330683  39.976417  0.078380  0.001472  0.078380  0.001472   \n",
       "\n",
       "         stdspeed                 date  COARSE_FIS   rowNum  \n",
       "2194298  0.159637  2007-08-20 00:49:53           2  2194299  \n",
       "2194299  0.159637  2007-08-20 00:50:50           2  2194300  \n",
       "2194300  0.159637  2007-08-20 00:51:57           2  2194301  \n",
       "2194301  0.000000  2007-08-20 00:52:42           2  2194302  \n",
       "2194302  0.000000  2007-08-20 00:54:01           2  2194303  "
      ]
     },
     "execution_count": 2,
     "metadata": {},
     "output_type": "execute_result"
    }
   ],
   "source": [
    "dataset = pd.read_csv('4classdata.csv')\n",
    "dataset.tail()"
   ]
  },
  {
   "cell_type": "code",
   "execution_count": 3,
   "metadata": {},
   "outputs": [
    {
     "data": {
      "text/html": [
       "<div>\n",
       "<style scoped>\n",
       "    .dataframe tbody tr th:only-of-type {\n",
       "        vertical-align: middle;\n",
       "    }\n",
       "\n",
       "    .dataframe tbody tr th {\n",
       "        vertical-align: top;\n",
       "    }\n",
       "\n",
       "    .dataframe thead th {\n",
       "        text-align: right;\n",
       "    }\n",
       "</style>\n",
       "<table border=\"1\" class=\"dataframe\">\n",
       "  <thead>\n",
       "    <tr style=\"text-align: right;\">\n",
       "      <th></th>\n",
       "      <th>MMSI</th>\n",
       "      <th>LONGITUDE</th>\n",
       "      <th>LATITUDE</th>\n",
       "      <th>speedmin</th>\n",
       "      <th>accmin2</th>\n",
       "      <th>avgspeed</th>\n",
       "      <th>meanacc</th>\n",
       "      <th>stdspeed</th>\n",
       "      <th>COARSE_FIS</th>\n",
       "      <th>rowNum</th>\n",
       "      <th>date_delta</th>\n",
       "    </tr>\n",
       "  </thead>\n",
       "  <tbody>\n",
       "    <tr>\n",
       "      <th>0</th>\n",
       "      <td>10</td>\n",
       "      <td>86.186028</td>\n",
       "      <td>41.741415</td>\n",
       "      <td>0.026938</td>\n",
       "      <td>-0.014162</td>\n",
       "      <td>0.891573</td>\n",
       "      <td>0.017554</td>\n",
       "      <td>0.393636</td>\n",
       "      <td>1</td>\n",
       "      <td>1</td>\n",
       "      <td>350.126308</td>\n",
       "    </tr>\n",
       "    <tr>\n",
       "      <th>1</th>\n",
       "      <td>10</td>\n",
       "      <td>86.179470</td>\n",
       "      <td>41.737063</td>\n",
       "      <td>0.740528</td>\n",
       "      <td>0.725685</td>\n",
       "      <td>0.891573</td>\n",
       "      <td>0.017554</td>\n",
       "      <td>0.393636</td>\n",
       "      <td>1</td>\n",
       "      <td>2</td>\n",
       "      <td>350.126991</td>\n",
       "    </tr>\n",
       "    <tr>\n",
       "      <th>2</th>\n",
       "      <td>10</td>\n",
       "      <td>86.172823</td>\n",
       "      <td>41.734105</td>\n",
       "      <td>0.642173</td>\n",
       "      <td>-0.098355</td>\n",
       "      <td>0.891573</td>\n",
       "      <td>0.017554</td>\n",
       "      <td>0.393636</td>\n",
       "      <td>1</td>\n",
       "      <td>3</td>\n",
       "      <td>350.127685</td>\n",
       "    </tr>\n",
       "    <tr>\n",
       "      <th>3</th>\n",
       "      <td>10</td>\n",
       "      <td>86.166563</td>\n",
       "      <td>41.739110</td>\n",
       "      <td>0.774170</td>\n",
       "      <td>0.134234</td>\n",
       "      <td>1.170899</td>\n",
       "      <td>0.002555</td>\n",
       "      <td>0.574789</td>\n",
       "      <td>1</td>\n",
       "      <td>4</td>\n",
       "      <td>350.128368</td>\n",
       "    </tr>\n",
       "    <tr>\n",
       "      <th>4</th>\n",
       "      <td>10</td>\n",
       "      <td>86.159987</td>\n",
       "      <td>41.744368</td>\n",
       "      <td>0.813248</td>\n",
       "      <td>0.039741</td>\n",
       "      <td>1.170899</td>\n",
       "      <td>0.002555</td>\n",
       "      <td>0.574789</td>\n",
       "      <td>1</td>\n",
       "      <td>5</td>\n",
       "      <td>350.129051</td>\n",
       "    </tr>\n",
       "  </tbody>\n",
       "</table>\n",
       "</div>"
      ],
      "text/plain": [
       "   MMSI  LONGITUDE   LATITUDE  speedmin   accmin2  avgspeed   meanacc  \\\n",
       "0    10  86.186028  41.741415  0.026938 -0.014162  0.891573  0.017554   \n",
       "1    10  86.179470  41.737063  0.740528  0.725685  0.891573  0.017554   \n",
       "2    10  86.172823  41.734105  0.642173 -0.098355  0.891573  0.017554   \n",
       "3    10  86.166563  41.739110  0.774170  0.134234  1.170899  0.002555   \n",
       "4    10  86.159987  41.744368  0.813248  0.039741  1.170899  0.002555   \n",
       "\n",
       "   stdspeed  COARSE_FIS  rowNum  date_delta  \n",
       "0  0.393636           1       1  350.126308  \n",
       "1  0.393636           1       2  350.126991  \n",
       "2  0.393636           1       3  350.127685  \n",
       "3  0.574789           1       4  350.128368  \n",
       "4  0.574789           1       5  350.129051  "
      ]
     },
     "execution_count": 3,
     "metadata": {},
     "output_type": "execute_result"
    }
   ],
   "source": [
    "dataset['date'] = pd.to_datetime(dataset['date'])    \n",
    "dataset['date_delta'] = (dataset['date'] - dataset['date'].min())  / np.timedelta64(1,'D')\n",
    "dataset = dataset.drop(['date'],1)\n",
    "dataset.head()"
   ]
  },
  {
   "cell_type": "code",
   "execution_count": 4,
   "metadata": {},
   "outputs": [
    {
     "data": {
      "text/plain": [
       "array([10, 20, 21, 52, 58, 60, 62, 64, 65, 67, 68, 69, 73, 75, 76, 78, 80,\n",
       "       81, 82, 84, 85, 86, 87])"
      ]
     },
     "execution_count": 4,
     "metadata": {},
     "output_type": "execute_result"
    }
   ],
   "source": [
    "uni_person = dataset.MMSI.unique()\n",
    "uni_person"
   ]
  },
  {
   "cell_type": "code",
   "execution_count": 5,
   "metadata": {},
   "outputs": [],
   "source": [
    "train_mmsi = np.random.choice(uni_person, size = 20,replace = False)\n",
    "train_mmsi = np.sort(train_mmsi)"
   ]
  },
  {
   "cell_type": "code",
   "execution_count": 6,
   "metadata": {
    "scrolled": true
   },
   "outputs": [],
   "source": [
    "df = pd.DataFrame()\n",
    "for i in train_mmsi: \n",
    "    df = df.append(dataset.loc[dataset['MMSI']==i])"
   ]
  },
  {
   "cell_type": "code",
   "execution_count": 7,
   "metadata": {},
   "outputs": [
    {
     "data": {
      "text/plain": [
       "MMSI\n",
       "10    131494\n",
       "20    128148\n",
       "52    139295\n",
       "60        16\n",
       "62    266249\n",
       "64     37390\n",
       "65     71440\n",
       "67     50596\n",
       "68    661833\n",
       "69      4193\n",
       "73     10592\n",
       "75      5812\n",
       "76       960\n",
       "78     36569\n",
       "80       629\n",
       "81     37131\n",
       "82     20552\n",
       "84    236797\n",
       "85    350404\n",
       "86       559\n",
       "dtype: int64"
      ]
     },
     "execution_count": 7,
     "metadata": {},
     "output_type": "execute_result"
    }
   ],
   "source": [
    "df.groupby('MMSI').size()"
   ]
  },
  {
   "cell_type": "code",
   "execution_count": 14,
   "metadata": {},
   "outputs": [
    {
     "data": {
      "text/plain": [
       "2190659"
      ]
     },
     "execution_count": 14,
     "metadata": {},
     "output_type": "execute_result"
    }
   ],
   "source": [
    "#specify the people --> sequence len for each person \n",
    "seq_len=df.groupby('MMSI').size().values\n",
    "sum(seq_len)"
   ]
  },
  {
   "cell_type": "code",
   "execution_count": 9,
   "metadata": {},
   "outputs": [
    {
     "data": {
      "text/plain": [
       "array([1., 1., 1., ..., 1., 1., 1.], dtype=float32)"
      ]
     },
     "execution_count": 9,
     "metadata": {},
     "output_type": "execute_result"
    }
   ],
   "source": [
    "labels = np.asarray(df['COARSE_FIS']).astype(np.float32)\n",
    "labels"
   ]
  },
  {
   "cell_type": "code",
   "execution_count": 10,
   "metadata": {},
   "outputs": [
    {
     "data": {
      "text/plain": [
       "8"
      ]
     },
     "execution_count": 10,
     "metadata": {},
     "output_type": "execute_result"
    }
   ],
   "source": [
    "features = np.asarray(df.drop(['MMSI','COARSE_FIS','rowNum'],1).values).astype(np.float32)\n",
    "n_samples, num_features = features.shape\n",
    "num_features"
   ]
  },
  {
   "cell_type": "code",
   "execution_count": 11,
   "metadata": {},
   "outputs": [],
   "source": [
    "train_x, train_y = [],[]\n",
    "seq_size = 250\n",
    "for i in range(len(features)-seq_size-1):\n",
    "    train_x.append(features[i:i+seq_size])\n",
    "    train_y.append(labels[i:i+seq_size])"
   ]
  },
  {
   "cell_type": "code",
   "execution_count": 13,
   "metadata": {},
   "outputs": [
    {
     "data": {
      "text/plain": [
       "2190408"
      ]
     },
     "execution_count": 13,
     "metadata": {},
     "output_type": "execute_result"
    }
   ],
   "source": []
  },
  {
   "cell_type": "code",
   "execution_count": null,
   "metadata": {},
   "outputs": [],
   "source": []
  },
  {
   "cell_type": "code",
   "execution_count": null,
   "metadata": {},
   "outputs": [],
   "source": []
  },
  {
   "cell_type": "code",
   "execution_count": null,
   "metadata": {},
   "outputs": [],
   "source": []
  }
 ],
 "metadata": {
  "kernelspec": {
   "display_name": "Python 3",
   "language": "python",
   "name": "python3"
  },
  "language_info": {
   "codemirror_mode": {
    "name": "ipython",
    "version": 3
   },
   "file_extension": ".py",
   "mimetype": "text/x-python",
   "name": "python",
   "nbconvert_exporter": "python",
   "pygments_lexer": "ipython3",
   "version": "3.6.4"
  }
 },
 "nbformat": 4,
 "nbformat_minor": 2
}
